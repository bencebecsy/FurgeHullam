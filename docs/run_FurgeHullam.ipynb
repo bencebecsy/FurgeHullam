{
 "cells": [
  {
   "cell_type": "code",
   "execution_count": null,
   "id": "0f108cff-f3a1-47f9-a811-8b4aba7d12ba",
   "metadata": {},
   "outputs": [],
   "source": [
    "%matplotlib inline\n",
    "%config InlineBackend.figure_format = 'retina'\n",
    "%load_ext autoreload\n",
    "#%load_ext line_profiler\n",
    "%autoreload 2\n",
    "\n",
    "import numpy as np\n",
    "import FurgeHullam.FurgeHullam as FurgeHullam\n",
    "\n",
    "import matplotlib.pyplot as plt\n",
    "import os, glob, json, pickle\n",
    "from time import perf_counter\n",
    "\n",
    "import enterprise\n",
    "from enterprise.pulsar import Pulsar"
   ]
  },
  {
   "cell_type": "markdown",
   "id": "29c090cc-8c77-458e-9967-9271944b1dbe",
   "metadata": {},
   "source": [
    "# Setup"
   ]
  },
  {
   "cell_type": "code",
   "execution_count": null,
   "id": "be67bac7-e158-49f0-9a84-e696d551c2d6",
   "metadata": {},
   "outputs": [],
   "source": [
    "#load in data\n",
    "data_pkl = './path/to/data.pkl'\n",
    "\n",
    "with open(data_pkl, 'rb') as psr_pkl:\n",
    "    psrs = pickle.load(psr_pkl)\n",
    "\n",
    "print(len(psrs))\n",
    "\n",
    "#only keep first n_psr pulsars\n",
    "n_psr = 2\n",
    "psrs = psrs[:n_psr]\n",
    "print(len(psrs))\n",
    "print(np.sum([len(psr.toas) for psr in psrs]))"
   ]
  },
  {
   "cell_type": "code",
   "execution_count": null,
   "id": "7816c972-ae4b-4b14-a60e-59d30bd51568",
   "metadata": {},
   "outputs": [],
   "source": [
    "#load in noise dictionary containing pulsar noise properties\n",
    "noise_json = \"./path/to/noise_dictionary.json\"\n",
    "with open(noise_json, 'r') as f:\n",
    "    noisedict = json.load(f)"
   ]
  },
  {
   "cell_type": "code",
   "execution_count": null,
   "id": "2d02e5cb-7fec-48a1-8559-fbf83ae865ea",
   "metadata": {},
   "outputs": [],
   "source": [
    "%%time\n",
    "\n",
    "#set up FurgeHullam object with psr objects\n",
    "FHull = FurgeHullam.FurgeHullam(psrs)\n",
    "\n",
    "#Get total Tspan\n",
    "tmin = np.min([p.toas.min() for p in psrs])\n",
    "tmax = np.max([p.toas.max() for p in psrs])\n",
    "Tspan = tmax - tmin\n",
    "\n",
    "#define how high we want to go in frequency in terms of ncomp/Tspan\n",
    "#this is an example for a quick test - realistically one usually wants to go up to f=1/yr, so e.g. ncomp=10 for a 10yr long dataset\n",
    "ncomp = 2\n",
    "\n",
    "#set up parameters of frequency grid - it's advisable to use 10 times ncomp grid points for accurate interpolation\n",
    "fmin = 0.0\n",
    "fmax = ncomp/Tspan\n",
    "n_f = 10*ncomp+1\n",
    "\n",
    "#actually do grid setup\n",
    "FHull.set_up_M_N_interpolators(fmin, fmax, n_f, psrs, noisedict=noisedict)\n",
    "\n",
    "#save grid setup to file so it can be easily loaded in later\n",
    "FHull.save_N_M_to_file(\"N_M_freq_grid_example_maxf10perT_101comp.npz\")"
   ]
  },
  {
   "cell_type": "code",
   "execution_count": null,
   "id": "2ac6f7ed-b33a-44ed-9993-03f624dff8fd",
   "metadata": {},
   "outputs": [],
   "source": [
    "%%time\n",
    "#It's also possible to update the grid with new data if the pulsars, the epochs and noise properties stay the same\n",
    "#This can be really useful for multiple realizations of simulated datasets\n",
    "#And this is much faster than a full setup because Ms stay the same and only Ns change\n",
    "\n",
    "#First we load in the grid we calculated before\n",
    "FHull.load_N_M_from_file(\"N_M_freq_grid_example_maxf10perT_101comp.npz\")\n",
    "\n",
    "#Here we would load in new data or otherwise modify the residuals in our dataset\n",
    "\n",
    "#update Ns only since Ms are unchanged\n",
    "FHull.update_N_interpolators()\n",
    "\n",
    "#save updated grid\n",
    "FHull.save_N_M_to_file(\"N_M_freq_grid_example_maxf10perT_101comp_updated_w_new_data.npz\")"
   ]
  },
  {
   "cell_type": "markdown",
   "id": "f80f6eb7-1562-477c-92e8-124fa0319015",
   "metadata": {},
   "source": [
    "# Fast likelihood calculation"
   ]
  },
  {
   "cell_type": "code",
   "execution_count": null,
   "id": "9edf23bd-428f-4f3d-a346-200fadc4bb42",
   "metadata": {},
   "outputs": [],
   "source": [
    "%%time\n",
    "#Once we have a grid saved, we can easily and quickly setup a FurgeHullam object we can use to calculate likelihoods\n",
    "FHull = FurgeHullam.FurgeHullam(psrs)\n",
    "FHull.load_N_M_from_file(\"N_M_freq_grid_example_maxf10perT_101comp_updated_w_new_data.npz\")"
   ]
  },
  {
   "cell_type": "code",
   "execution_count": null,
   "id": "d7a114ad-b753-4ba6-80a0-4bfa3f99c1c5",
   "metadata": {},
   "outputs": [],
   "source": [
    "#Let us define parameters of the CW model where we will ask for likelihoods\n",
    "#Alternatively this is where an MCMC or other analysis could be setup using the FurgeHullam likelihood\n",
    "\n",
    "################\n",
    "fgw = 3e-9 #GW frequency\n",
    "inc = 0.7 #inclination angle\n",
    "theta = 1.4 #sky location angle\n",
    "A = 5e-14 #amplitude\n",
    "phase0 = 1.5 #initial Earth term phase\n",
    "phi = 3.3 #other sky location angle\n",
    "psi = 0.3 #polarization angle\n",
    "m_c = 1e8 #chirp mass\n",
    "psr_phase = 0.0 #GW phase at pulsars (in this example we assume it's the same for all pulsar)\n",
    "psr_distance = 1.0 #distance to each pulsar in kpc (here we assume same for all pulsar)\n",
    "################\n",
    "\n",
    "#setup array with all the parameters in the right format\n",
    "xxx = [np.cos(inc), np.cos(theta), np.log10(A), np.log10(fgw), np.log10(m_c), phase0, phi, psi]\n",
    "xxx += [psr_phase, psr_distance,]*len(psrs)\n",
    "\n",
    "xxx = np.array(xxx)\n",
    "print(xxx)\n",
    "\n",
    "#also set up an array that does not include psr phase to use with phase marginalized likelihood\n",
    "xxx_nophase = [np.cos(inc), np.cos(theta), np.log10(A), np.log10(fgw), np.log10(m_c), phase0, phi, psi]\n",
    "xxx_nophase += [0.0, ]*len(psrs)\n",
    "\n",
    "xxx_nophase = np.array(xxx_nophase)\n",
    "print(xxx_nophase)\n",
    "\n",
    "#and finally set up array that only has 8 common parameters to use with phase-and-distance marginalized likelihood\n",
    "xxx_com = np.copy(xxx[:8])\n",
    "print(xxx_com)"
   ]
  },
  {
   "cell_type": "code",
   "execution_count": null,
   "id": "1d572c02-5efa-4853-9191-696cf491d433",
   "metadata": {},
   "outputs": [],
   "source": [
    "#calculate and time likelihood (it takes long the first time since this is when functions are compiled)\n",
    "%time print(FHull.get_log_L_evolve(xxx))"
   ]
  },
  {
   "cell_type": "code",
   "execution_count": null,
   "id": "1cf0f5b8-2e32-40c7-9440-51b6b5d316fa",
   "metadata": {},
   "outputs": [],
   "source": [
    "#calculate likelihood again (subsequent calls are fast)\n",
    "%time print(FHull.get_log_L_evolve(xxx))"
   ]
  },
  {
   "cell_type": "code",
   "execution_count": null,
   "id": "fa3b754c-ac4e-424b-9cca-676b225259af",
   "metadata": {},
   "outputs": [],
   "source": [
    "#calculate and time phase-marginalized likelihood (it takes long the first time since this is when functions are compiled)\n",
    "%time print(FHull.get_phase_marg_log_L_evolve(xxx_nophase))"
   ]
  },
  {
   "cell_type": "code",
   "execution_count": null,
   "id": "912e6773-f2ce-493b-8917-cd33f5f8c5c3",
   "metadata": {},
   "outputs": [],
   "source": [
    "#calculate phase-marginalized likelihood again (subsequent calls are fast)\n",
    "%time print(FHull.get_phase_marg_log_L_evolve(xxx_nophase))"
   ]
  },
  {
   "cell_type": "code",
   "execution_count": null,
   "id": "3a332f41-4cb3-4f4f-b383-b116a9dbbe14",
   "metadata": {},
   "outputs": [],
   "source": [
    "#calculate and time distance-and-phase-marginalized likelihood (it takes long the first time since this is when functions are compiled)\n",
    "%time print(FHull.get_phase_dist_marg_log_L_evolve(xxx_com))"
   ]
  },
  {
   "cell_type": "code",
   "execution_count": null,
   "id": "029cd403-4c0b-4586-8524-7fba4a54198d",
   "metadata": {},
   "outputs": [],
   "source": [
    "#calculate distance-and-phase-marginalized likelihood again (subsequent calls are fast)\n",
    "%time print(FHull.get_phase_dist_marg_log_L_evolve(xxx_com))"
   ]
  },
  {
   "cell_type": "code",
   "execution_count": null,
   "id": "f4412407-6bb0-47a1-bf38-2c937d31b150",
   "metadata": {},
   "outputs": [],
   "source": []
  }
 ],
 "metadata": {
  "kernelspec": {
   "display_name": "Python 3 (ipykernel)",
   "language": "python",
   "name": "python3"
  },
  "language_info": {
   "codemirror_mode": {
    "name": "ipython",
    "version": 3
   },
   "file_extension": ".py",
   "mimetype": "text/x-python",
   "name": "python",
   "nbconvert_exporter": "python",
   "pygments_lexer": "ipython3",
   "version": "3.9.19"
  }
 },
 "nbformat": 4,
 "nbformat_minor": 5
}
